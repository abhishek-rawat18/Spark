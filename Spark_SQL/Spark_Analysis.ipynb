{
 "cells": [
  {
   "cell_type": "code",
   "execution_count": 1,
   "metadata": {},
   "outputs": [
    {
     "data": {
      "text/html": [
       "\n",
       "        <div>\n",
       "            <p><b>SparkContext</b></p>\n",
       "\n",
       "            <p><a href=\"http://AbhishekRawat:4040\">Spark UI</a></p>\n",
       "\n",
       "            <dl>\n",
       "              <dt>Version</dt>\n",
       "                <dd><code>v2.3.3</code></dd>\n",
       "              <dt>Master</dt>\n",
       "                <dd><code>local[*]</code></dd>\n",
       "              <dt>AppName</dt>\n",
       "                <dd><code>PySparkShell</code></dd>\n",
       "            </dl>\n",
       "        </div>\n",
       "        "
      ],
      "text/plain": [
       "<SparkContext master=local[*] appName=PySparkShell>"
      ]
     },
     "execution_count": 1,
     "metadata": {},
     "output_type": "execute_result"
    }
   ],
   "source": [
    "sc"
   ]
  },
  {
   "cell_type": "code",
   "execution_count": 2,
   "metadata": {
    "scrolled": true
   },
   "outputs": [
    {
     "data": {
      "text/plain": [
       "'C:\\\\ProgramData\\\\Anaconda3\\\\python.exe'"
      ]
     },
     "execution_count": 2,
     "metadata": {},
     "output_type": "execute_result"
    }
   ],
   "source": [
    "import sys\n",
    "sys.executable"
   ]
  },
  {
   "cell_type": "code",
   "execution_count": 3,
   "metadata": {},
   "outputs": [
    {
     "name": "stdout",
     "output_type": "stream",
     "text": [
      "3.6.7\n"
     ]
    }
   ],
   "source": [
    "from platform import python_version\n",
    "print(python_version())"
   ]
  },
  {
   "cell_type": "code",
   "execution_count": 4,
   "metadata": {},
   "outputs": [],
   "source": [
    "from pyspark.sql.types import StringType, StructField, StructType, TimestampType, ArrayType, IntegerType, LongType\n",
    "\n",
    "event_schema = StructType([\n",
    "    StructField(\"timestamp\", StringType()),\n",
    "    StructField(\"visitorid\", IntegerType()),\n",
    "    StructField(\"event\", StringType()),\n",
    "    StructField(\"itemid\", IntegerType()),\n",
    "    StructField(\"transactionid\", IntegerType())\n",
    "])"
   ]
  },
  {
   "cell_type": "code",
   "execution_count": 5,
   "metadata": {},
   "outputs": [],
   "source": [
    "import os\n",
    "os.chdir(\"c:/users/Abhishek/desktop\")"
   ]
  },
  {
   "cell_type": "code",
   "execution_count": 6,
   "metadata": {},
   "outputs": [],
   "source": [
    "fp = \"events.csv\"\n",
    "df = spark.read.csv(fp, header = True, schema = event_schema)"
   ]
  },
  {
   "cell_type": "code",
   "execution_count": 7,
   "metadata": {},
   "outputs": [
    {
     "name": "stdout",
     "output_type": "stream",
     "text": [
      "+-------------+---------+---------+------+-------------+\n",
      "|    timestamp|visitorid|    event|itemid|transactionid|\n",
      "+-------------+---------+---------+------+-------------+\n",
      "|1433221332117|   257597|     view|355908|         null|\n",
      "|1433224214164|   992329|     view|248676|         null|\n",
      "|1433221999827|   111016|     view|318965|         null|\n",
      "|1433221955914|   483717|     view|253185|         null|\n",
      "|1433221337106|   951259|     view|367447|         null|\n",
      "|1433224086234|   972639|     view| 22556|         null|\n",
      "|1433221923240|   810725|     view|443030|         null|\n",
      "|1433223291897|   794181|     view|439202|         null|\n",
      "|1433220899221|   824915|     view|428805|         null|\n",
      "|1433221204592|   339335|     view| 82389|         null|\n",
      "|1433222162373|   176446|     view| 10572|         null|\n",
      "|1433221701252|   929206|     view|410676|         null|\n",
      "|1433224229496|    15795|     view| 44872|         null|\n",
      "|1433223697356|   598426|     view|156489|         null|\n",
      "|1433224078165|   223343|     view|402625|         null|\n",
      "|1433222531378|    57036|     view|334662|         null|\n",
      "|1433223239808|  1377281|     view|251467|         null|\n",
      "|1433223236124|   287857|addtocart|  5206|         null|\n",
      "|1433224244282|  1370216|     view|176721|         null|\n",
      "|1433221078505|   158090|addtocart| 10572|         null|\n",
      "+-------------+---------+---------+------+-------------+\n",
      "only showing top 20 rows\n",
      "\n"
     ]
    }
   ],
   "source": [
    "df.show()"
   ]
  },
  {
   "cell_type": "code",
   "execution_count": 8,
   "metadata": {},
   "outputs": [
    {
     "name": "stdout",
     "output_type": "stream",
     "text": [
      "root\n",
      " |-- timestamp: string (nullable = true)\n",
      " |-- visitorid: integer (nullable = true)\n",
      " |-- event: string (nullable = true)\n",
      " |-- itemid: integer (nullable = true)\n",
      " |-- transactionid: integer (nullable = true)\n",
      "\n"
     ]
    }
   ],
   "source": [
    "df.printSchema()"
   ]
  },
  {
   "cell_type": "code",
   "execution_count": 9,
   "metadata": {},
   "outputs": [],
   "source": [
    "from pyspark.sql import functions as f\n",
    "from pyspark.sql import types as t"
   ]
  },
  {
   "cell_type": "code",
   "execution_count": 10,
   "metadata": {},
   "outputs": [],
   "source": [
    "format = \"yyyy-MM-dd HH:mm:ss\"\n",
    "df = df.withColumn('timestamp2', f.from_unixtime(df.timestamp/1000).cast(TimestampType()))\n"
   ]
  },
  {
   "cell_type": "code",
   "execution_count": 11,
   "metadata": {},
   "outputs": [
    {
     "name": "stdout",
     "output_type": "stream",
     "text": [
      "+-------------+---------+---------+------+-------------+-------------------+\n",
      "|    timestamp|visitorid|    event|itemid|transactionid|         timestamp2|\n",
      "+-------------+---------+---------+------+-------------+-------------------+\n",
      "|1433221332117|   257597|     view|355908|         null|2015-06-02 10:32:12|\n",
      "|1433224214164|   992329|     view|248676|         null|2015-06-02 11:20:14|\n",
      "|1433221999827|   111016|     view|318965|         null|2015-06-02 10:43:19|\n",
      "|1433221955914|   483717|     view|253185|         null|2015-06-02 10:42:35|\n",
      "|1433221337106|   951259|     view|367447|         null|2015-06-02 10:32:17|\n",
      "|1433224086234|   972639|     view| 22556|         null|2015-06-02 11:18:06|\n",
      "|1433221923240|   810725|     view|443030|         null|2015-06-02 10:42:03|\n",
      "|1433223291897|   794181|     view|439202|         null|2015-06-02 11:04:51|\n",
      "|1433220899221|   824915|     view|428805|         null|2015-06-02 10:24:59|\n",
      "|1433221204592|   339335|     view| 82389|         null|2015-06-02 10:30:04|\n",
      "|1433222162373|   176446|     view| 10572|         null|2015-06-02 10:46:02|\n",
      "|1433221701252|   929206|     view|410676|         null|2015-06-02 10:38:21|\n",
      "|1433224229496|    15795|     view| 44872|         null|2015-06-02 11:20:29|\n",
      "|1433223697356|   598426|     view|156489|         null|2015-06-02 11:11:37|\n",
      "|1433224078165|   223343|     view|402625|         null|2015-06-02 11:17:58|\n",
      "|1433222531378|    57036|     view|334662|         null|2015-06-02 10:52:11|\n",
      "|1433223239808|  1377281|     view|251467|         null|2015-06-02 11:03:59|\n",
      "|1433223236124|   287857|addtocart|  5206|         null|2015-06-02 11:03:56|\n",
      "|1433224244282|  1370216|     view|176721|         null|2015-06-02 11:20:44|\n",
      "|1433221078505|   158090|addtocart| 10572|         null|2015-06-02 10:27:58|\n",
      "+-------------+---------+---------+------+-------------+-------------------+\n",
      "only showing top 20 rows\n",
      "\n"
     ]
    }
   ],
   "source": [
    "df.show()"
   ]
  },
  {
   "cell_type": "code",
   "execution_count": 12,
   "metadata": {},
   "outputs": [
    {
     "data": {
      "text/plain": [
       "pyspark.sql.dataframe.DataFrame"
      ]
     },
     "execution_count": 12,
     "metadata": {},
     "output_type": "execute_result"
    }
   ],
   "source": [
    "type(df)"
   ]
  },
  {
   "cell_type": "code",
   "execution_count": 13,
   "metadata": {},
   "outputs": [],
   "source": [
    "df = df.drop('timestamp')"
   ]
  },
  {
   "cell_type": "code",
   "execution_count": 14,
   "metadata": {},
   "outputs": [
    {
     "name": "stdout",
     "output_type": "stream",
     "text": [
      "+---------+---------+------+-------------+-------------------+\n",
      "|visitorid|    event|itemid|transactionid|          timestamp|\n",
      "+---------+---------+------+-------------+-------------------+\n",
      "|   257597|     view|355908|         null|2015-06-02 10:32:12|\n",
      "|   992329|     view|248676|         null|2015-06-02 11:20:14|\n",
      "|   111016|     view|318965|         null|2015-06-02 10:43:19|\n",
      "|   483717|     view|253185|         null|2015-06-02 10:42:35|\n",
      "|   951259|     view|367447|         null|2015-06-02 10:32:17|\n",
      "|   972639|     view| 22556|         null|2015-06-02 11:18:06|\n",
      "|   810725|     view|443030|         null|2015-06-02 10:42:03|\n",
      "|   794181|     view|439202|         null|2015-06-02 11:04:51|\n",
      "|   824915|     view|428805|         null|2015-06-02 10:24:59|\n",
      "|   339335|     view| 82389|         null|2015-06-02 10:30:04|\n",
      "|   176446|     view| 10572|         null|2015-06-02 10:46:02|\n",
      "|   929206|     view|410676|         null|2015-06-02 10:38:21|\n",
      "|    15795|     view| 44872|         null|2015-06-02 11:20:29|\n",
      "|   598426|     view|156489|         null|2015-06-02 11:11:37|\n",
      "|   223343|     view|402625|         null|2015-06-02 11:17:58|\n",
      "|    57036|     view|334662|         null|2015-06-02 10:52:11|\n",
      "|  1377281|     view|251467|         null|2015-06-02 11:03:59|\n",
      "|   287857|addtocart|  5206|         null|2015-06-02 11:03:56|\n",
      "|  1370216|     view|176721|         null|2015-06-02 11:20:44|\n",
      "|   158090|addtocart| 10572|         null|2015-06-02 10:27:58|\n",
      "+---------+---------+------+-------------+-------------------+\n",
      "only showing top 20 rows\n",
      "\n"
     ]
    }
   ],
   "source": [
    "df = df.withColumnRenamed('timestamp2', 'timestamp')\n",
    "df.show()"
   ]
  },
  {
   "cell_type": "code",
   "execution_count": 15,
   "metadata": {},
   "outputs": [
    {
     "name": "stdout",
     "output_type": "stream",
     "text": [
      "+---------+---------+------+-------------+-------------------+\n",
      "|visitorid|    event|itemid|transactionid|          timestamp|\n",
      "+---------+---------+------+-------------+-------------------+\n",
      "|   257597|     view|355908|         null|2015-06-02 10:32:12|\n",
      "|   992329|     view|248676|         null|2015-06-02 11:20:14|\n",
      "|   111016|     view|318965|         null|2015-06-02 10:43:19|\n",
      "|   483717|     view|253185|         null|2015-06-02 10:42:35|\n",
      "|   951259|     view|367447|         null|2015-06-02 10:32:17|\n",
      "|   972639|     view| 22556|         null|2015-06-02 11:18:06|\n",
      "|   810725|     view|443030|         null|2015-06-02 10:42:03|\n",
      "|   794181|     view|439202|         null|2015-06-02 11:04:51|\n",
      "|   824915|     view|428805|         null|2015-06-02 10:24:59|\n",
      "|   339335|     view| 82389|         null|2015-06-02 10:30:04|\n",
      "|   176446|     view| 10572|         null|2015-06-02 10:46:02|\n",
      "|   929206|     view|410676|         null|2015-06-02 10:38:21|\n",
      "|    15795|     view| 44872|         null|2015-06-02 11:20:29|\n",
      "|   598426|     view|156489|         null|2015-06-02 11:11:37|\n",
      "|   223343|     view|402625|         null|2015-06-02 11:17:58|\n",
      "|    57036|     view|334662|         null|2015-06-02 10:52:11|\n",
      "|  1377281|     view|251467|         null|2015-06-02 11:03:59|\n",
      "|   287857|addtocart|  5206|         null|2015-06-02 11:03:56|\n",
      "|  1370216|     view|176721|         null|2015-06-02 11:20:44|\n",
      "|   158090|addtocart| 10572|         null|2015-06-02 10:27:58|\n",
      "+---------+---------+------+-------------+-------------------+\n",
      "only showing top 20 rows\n",
      "\n"
     ]
    }
   ],
   "source": [
    "df.show()"
   ]
  },
  {
   "cell_type": "code",
   "execution_count": 16,
   "metadata": {},
   "outputs": [
    {
     "name": "stdout",
     "output_type": "stream",
     "text": [
      "root\n",
      " |-- visitorid: integer (nullable = true)\n",
      " |-- event: string (nullable = true)\n",
      " |-- itemid: integer (nullable = true)\n",
      " |-- transactionid: integer (nullable = true)\n",
      " |-- timestamp: timestamp (nullable = true)\n",
      "\n"
     ]
    }
   ],
   "source": [
    "df.printSchema()"
   ]
  },
  {
   "cell_type": "code",
   "execution_count": 17,
   "metadata": {},
   "outputs": [],
   "source": [
    "dfs = df.sample(fraction= 0.005)"
   ]
  },
  {
   "cell_type": "code",
   "execution_count": 18,
   "metadata": {},
   "outputs": [
    {
     "name": "stdout",
     "output_type": "stream",
     "text": [
      "+---------+-----+------+-------------+-------------------+\n",
      "|visitorid|event|itemid|transactionid|          timestamp|\n",
      "+---------+-----+------+-------------+-------------------+\n",
      "|   929206| view|410676|         null|2015-06-02 10:38:21|\n",
      "|   971845| view|251813|         null|2015-06-02 02:15:44|\n",
      "|    95902| view|298598|         null|2015-06-02 02:56:50|\n",
      "|   294006| view|441185|         null|2015-06-01 21:24:01|\n",
      "|  1351643| view|156993|         null|2015-06-01 21:42:38|\n",
      "|  1354366| view|175317|         null|2015-06-01 18:26:59|\n",
      "|  1282928| view|435160|         null|2015-06-01 20:38:26|\n",
      "|   832350| view| 21730|         null|2015-06-02 04:34:57|\n",
      "|    69727| view|106734|         null|2015-06-02 04:59:49|\n",
      "|   823032| view|406205|         null|2015-06-02 07:38:00|\n",
      "|   315221| view| 34551|         null|2015-06-01 17:59:11|\n",
      "|  1265769| view|283125|         null|2015-06-01 18:14:10|\n",
      "|    18588| view| 56722|         null|2015-06-02 03:19:30|\n",
      "|    81872| view|123565|         null|2015-06-02 03:16:20|\n",
      "|  1166817| view|277844|         null|2015-06-02 09:10:48|\n",
      "|   830811| view| 15564|         null|2015-06-02 08:52:06|\n",
      "|  1102099| view|261724|         null|2015-06-02 05:40:01|\n",
      "|   578124| view|177478|         null|2015-06-02 05:51:15|\n",
      "|   865341| view|229193|         null|2015-06-02 05:42:10|\n",
      "|  1387401| view|142268|         null|2015-06-02 00:42:30|\n",
      "+---------+-----+------+-------------+-------------------+\n",
      "only showing top 20 rows\n",
      "\n"
     ]
    }
   ],
   "source": [
    "dfs.show()"
   ]
  },
  {
   "cell_type": "code",
   "execution_count": 19,
   "metadata": {},
   "outputs": [],
   "source": [
    "from pyspark.sql.functions import count\n",
    "dfsgb = dfs.groupBy([\"visitorid\", \"itemid\"]).agg(count(\"timestamp\").alias(\"interactions\"))"
   ]
  },
  {
   "cell_type": "code",
   "execution_count": 20,
   "metadata": {},
   "outputs": [
    {
     "name": "stdout",
     "output_type": "stream",
     "text": [
      "+---------+------+------------+\n",
      "|visitorid|itemid|interactions|\n",
      "+---------+------+------------+\n",
      "|   820327|299038|           1|\n",
      "|    73838|323042|           1|\n",
      "|  1205506|406376|           1|\n",
      "|   795736|118198|           1|\n",
      "|   150764| 39675|           1|\n",
      "|   388205|384528|           1|\n",
      "|  1025758|378290|           1|\n",
      "|  1075552| 87413|           1|\n",
      "|   560231|373360|           1|\n",
      "|   304019|346917|           1|\n",
      "|   481118|312873|           1|\n",
      "|   986961|437804|           1|\n",
      "|   922323|174894|           1|\n",
      "|   310019|454669|           1|\n",
      "|   953029|  8233|           1|\n",
      "|   331229| 54521|           1|\n",
      "|   567720|232509|           1|\n",
      "|   136469|170811|           1|\n",
      "|   744671|134118|           1|\n",
      "|  1139002|313835|           1|\n",
      "+---------+------+------------+\n",
      "only showing top 20 rows\n",
      "\n"
     ]
    }
   ],
   "source": [
    "dfsgb.show()"
   ]
  },
  {
   "cell_type": "code",
   "execution_count": 21,
   "metadata": {},
   "outputs": [
    {
     "name": "stdout",
     "output_type": "stream",
     "text": [
      "+-----------------+\n",
      "|max(interactions)|\n",
      "+-----------------+\n",
      "|                3|\n",
      "+-----------------+\n",
      "\n"
     ]
    }
   ],
   "source": [
    "from pyspark.sql.functions import max, min\n",
    "dfsgb.agg(max(\"interactions\")).show()"
   ]
  },
  {
   "cell_type": "code",
   "execution_count": 22,
   "metadata": {},
   "outputs": [],
   "source": [
    "dfsui = dfs.groupby(\"visitorid\").agg(count(\"timestamp\").alias(\"total_user_interaction_count\"))"
   ]
  },
  {
   "cell_type": "code",
   "execution_count": 23,
   "metadata": {},
   "outputs": [
    {
     "name": "stdout",
     "output_type": "stream",
     "text": [
      "+---------------------------------+\n",
      "|max(total_user_interaction_count)|\n",
      "+---------------------------------+\n",
      "|                               41|\n",
      "+---------------------------------+\n",
      "\n"
     ]
    }
   ],
   "source": [
    "dfsui.agg(max(\"total_user_interaction_count\")).show()"
   ]
  },
  {
   "cell_type": "code",
   "execution_count": 24,
   "metadata": {},
   "outputs": [
    {
     "name": "stdout",
     "output_type": "stream",
     "text": [
      "+-------------------------+\n",
      "|count(DISTINCT visitorid)|\n",
      "+-------------------------+\n",
      "|                    13078|\n",
      "+-------------------------+\n",
      "\n"
     ]
    }
   ],
   "source": [
    "from pyspark.sql.functions import col, countDistinct\n",
    "dfs.agg(countDistinct(\"visitorid\")).show()"
   ]
  },
  {
   "cell_type": "code",
   "execution_count": 25,
   "metadata": {},
   "outputs": [
    {
     "name": "stdout",
     "output_type": "stream",
     "text": [
      "+----------------------+\n",
      "|count(DISTINCT itemid)|\n",
      "+----------------------+\n",
      "|                 11211|\n",
      "+----------------------+\n",
      "\n"
     ]
    }
   ],
   "source": [
    "dfs.agg(countDistinct(\"itemid\")).show()"
   ]
  },
  {
   "cell_type": "code",
   "execution_count": 26,
   "metadata": {},
   "outputs": [
    {
     "data": {
      "text/plain": [
       "pyspark.sql.dataframe.DataFrame"
      ]
     },
     "execution_count": 26,
     "metadata": {},
     "output_type": "execute_result"
    }
   ],
   "source": [
    "type(dfsgb)"
   ]
  },
  {
   "cell_type": "code",
   "execution_count": 27,
   "metadata": {},
   "outputs": [],
   "source": [
    "from pyspark.sql.functions import *\n",
    "\n",
    "df1 = dfsgb.alias('df1')\n",
    "df2 = dfsui.alias('df2')"
   ]
  },
  {
   "cell_type": "code",
   "execution_count": 28,
   "metadata": {},
   "outputs": [],
   "source": [
    "dfr = df1.join(df2, df1.visitorid == df2.visitorid).select('df1.*', 'df2.total_user_interaction_count')"
   ]
  },
  {
   "cell_type": "code",
   "execution_count": 29,
   "metadata": {},
   "outputs": [],
   "source": [
    "dfr = dfr.withColumn('rui', dfr.interactions/dfr.total_user_interaction_count)"
   ]
  },
  {
   "cell_type": "code",
   "execution_count": 30,
   "metadata": {},
   "outputs": [
    {
     "name": "stdout",
     "output_type": "stream",
     "text": [
      "+--------------------+\n",
      "|            min(rui)|\n",
      "+--------------------+\n",
      "|0.024390243902439025|\n",
      "+--------------------+\n",
      "\n"
     ]
    }
   ],
   "source": [
    "dfr.agg(min(\"rui\")).show()"
   ]
  },
  {
   "cell_type": "code",
   "execution_count": 31,
   "metadata": {},
   "outputs": [
    {
     "name": "stdout",
     "output_type": "stream",
     "text": [
      "+------------------+\n",
      "|          avg(rui)|\n",
      "+------------------+\n",
      "|0.9531375264193572|\n",
      "+------------------+\n",
      "\n"
     ]
    }
   ],
   "source": [
    "from pyspark.sql.functions import mean\n",
    "dfr.agg(mean(\"rui\")).show()"
   ]
  },
  {
   "cell_type": "code",
   "execution_count": 32,
   "metadata": {},
   "outputs": [
    {
     "data": {
      "text/plain": [
       "[0.024390243902439025, 0.024390243902439025, 1.0, 1.0, 1.0]"
      ]
     },
     "execution_count": 32,
     "metadata": {},
     "output_type": "execute_result"
    }
   ],
   "source": [
    "dfr.approxQuantile(\"rui\", [0.1, 0.2, 0.3, 0.4, 0.5], 0.25)"
   ]
  },
  {
   "cell_type": "code",
   "execution_count": 33,
   "metadata": {},
   "outputs": [
    {
     "name": "stdout",
     "output_type": "stream",
     "text": [
      "+-----------+-----+\n",
      "|      event|count|\n",
      "+-----------+-----+\n",
      "|transaction|  117|\n",
      "|  addtocart|  336|\n",
      "|       view|13315|\n",
      "+-----------+-----+\n",
      "\n"
     ]
    }
   ],
   "source": [
    "dfs.groupBy(\"event\").count().show()"
   ]
  },
  {
   "cell_type": "code",
   "execution_count": 34,
   "metadata": {},
   "outputs": [],
   "source": [
    "def assign_ratings(e):\n",
    "    \n",
    "    rating = 0\n",
    "    if e == \"view\":\n",
    "        rating = 2\n",
    "    else:\n",
    "        rating = 5\n",
    "    \n",
    "    return rating"
   ]
  },
  {
   "cell_type": "code",
   "execution_count": 35,
   "metadata": {},
   "outputs": [
    {
     "name": "stdout",
     "output_type": "stream",
     "text": [
      "+-------+\n",
      "|ratings|\n",
      "+-------+\n",
      "|      2|\n",
      "|      2|\n",
      "|      2|\n",
      "|      2|\n",
      "|      2|\n",
      "|      2|\n",
      "|      2|\n",
      "|      2|\n",
      "|      2|\n",
      "|      2|\n",
      "|      2|\n",
      "|      2|\n",
      "|      2|\n",
      "|      2|\n",
      "|      2|\n",
      "|      2|\n",
      "|      2|\n",
      "|      2|\n",
      "|      2|\n",
      "|      2|\n",
      "+-------+\n",
      "only showing top 20 rows\n",
      "\n"
     ]
    }
   ],
   "source": [
    "from pyspark.sql import Row\n",
    "dfs.select(\"event\").rdd.map(lambda x : assign_ratings(x[0])).map(lambda x: Row(x)).toDF([\"ratings\"]).show()"
   ]
  },
  {
   "cell_type": "code",
   "execution_count": 36,
   "metadata": {},
   "outputs": [],
   "source": [
    "from pyspark.sql.functions import col, when\n",
    "dfs = dfs.withColumn(\"ratings\", when(col(\"event\")=='view', 2).otherwise(5))"
   ]
  },
  {
   "cell_type": "code",
   "execution_count": 37,
   "metadata": {},
   "outputs": [
    {
     "data": {
      "text/plain": [
       "13588"
      ]
     },
     "execution_count": 37,
     "metadata": {},
     "output_type": "execute_result"
    }
   ],
   "source": [
    "dfs.rdd.countApproxDistinct()"
   ]
  },
  {
   "cell_type": "code",
   "execution_count": null,
   "metadata": {},
   "outputs": [],
   "source": []
  }
 ],
 "metadata": {
  "kernelspec": {
   "display_name": "Python 3",
   "language": "python",
   "name": "python3"
  },
  "language_info": {
   "codemirror_mode": {
    "name": "ipython",
    "version": 3
   },
   "file_extension": ".py",
   "mimetype": "text/x-python",
   "name": "python",
   "nbconvert_exporter": "python",
   "pygments_lexer": "ipython3",
   "version": "3.6.7"
  }
 },
 "nbformat": 4,
 "nbformat_minor": 2
}
